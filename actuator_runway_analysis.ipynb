{
 "cells": [
  {
   "cell_type": "code",
   "execution_count": null,
   "metadata": {},
   "outputs": [],
   "source": [
    "import numpy as np\n",
    "import matplotlib.pyplot as plt\n",
    "from scipy.integrate import solve_ivp"
   ]
  },
  {
   "cell_type": "code",
   "execution_count": 2,
   "metadata": {},
   "outputs": [],
   "source": [
    "# SYSTEM PARAMETERS\n",
    "\n",
    "# Gantry\n",
    "m = 2.0  # mass of mover + gantry (kg)\n",
    "r = 0.05  # radius of the wheel/pulley (m)\n",
    "u_kinetic = 0.7 # kinetic friction of rail\n",
    "\n",
    "# Runway\n",
    "v_max = 2.5  # maximum target speed (m/s)\n",
    "l_runway = 0.1  # target runway lenth in (m)\n",
    "\n",
    "# Motor\n",
    "stall_torque = 2.0  # max torque at zero speed in Nm\n",
    "no_load_ang_vel = 5.0 # no load maximum angular velocity (rad/s)\n",
    "\n",
    "# SIMULATION PARAMETERS\n",
    "\n",
    "dt = 0.01  # time step in seconds\n",
    "t_max = 10  # max time for integration in seconds\n",
    "num_steps = int(t_max / dt)\n"
   ]
  },
  {
   "cell_type": "code",
   "execution_count": null,
   "metadata": {},
   "outputs": [],
   "source": [
    "# ANALYSIS\n"
   ]
  },
  {
   "cell_type": "code",
   "execution_count": null,
   "metadata": {},
   "outputs": [],
   "source": [
    "# PLOTTING"
   ]
  }
 ],
 "metadata": {
  "kernelspec": {
   "display_name": "Python 3",
   "language": "python",
   "name": "python3"
  },
  "language_info": {
   "codemirror_mode": {
    "name": "ipython",
    "version": 3
   },
   "file_extension": ".py",
   "mimetype": "text/x-python",
   "name": "python",
   "nbconvert_exporter": "python",
   "pygments_lexer": "ipython3",
   "version": "3.8.10"
  }
 },
 "nbformat": 4,
 "nbformat_minor": 2
}
