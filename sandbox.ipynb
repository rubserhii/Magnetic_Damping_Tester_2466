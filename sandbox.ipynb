{
 "cells": [
  {
   "cell_type": "markdown",
   "metadata": {},
   "source": [
    "Get time delay"
   ]
  },
  {
   "cell_type": "code",
   "execution_count": 1,
   "metadata": {},
   "outputs": [
    {
     "name": "stdout",
     "output_type": "stream",
     "text": [
      "Execution time: 0 ns\n"
     ]
    }
   ],
   "source": [
    "import time\n",
    "\n",
    "start = time.time_ns()\n",
    "time.time_ns()\n",
    "end = time.time_ns()\n",
    "\n",
    "execution_time = end - start  # Execution time in nanoseconds\n",
    "print(f\"Execution time: {execution_time} ns\")"
   ]
  },
  {
   "cell_type": "markdown",
   "metadata": {},
   "source": [
    "Calculations Delay"
   ]
  },
  {
   "cell_type": "code",
   "execution_count": 2,
   "metadata": {},
   "outputs": [
    {
     "name": "stdout",
     "output_type": "stream",
     "text": [
      "Execution time: 0 ns\n"
     ]
    }
   ],
   "source": [
    "p2 = 10\n",
    "p1 = 5\n",
    "t1 = 1\n",
    "t2 = 2\n",
    "\n",
    "start = time.time_ns()\n",
    "v=(p2-p1)/(t2-t1)\n",
    "end = time.time_ns()\n",
    "\n",
    "execution_time = end - start  # Execution time in nanoseconds\n",
    "print(f\"Execution time: {execution_time} ns\")"
   ]
  },
  {
   "cell_type": "markdown",
   "metadata": {},
   "source": [
    "If Statement Delay"
   ]
  },
  {
   "cell_type": "code",
   "execution_count": 3,
   "metadata": {},
   "outputs": [
    {
     "name": "stdout",
     "output_type": "stream",
     "text": [
      "Execution time: 0 ns\n"
     ]
    }
   ],
   "source": [
    "x = 5\n",
    "\n",
    "start = time.time_ns()\n",
    "if x < 4:\n",
    "    pass\n",
    "else:\n",
    "    pass\n",
    "end = time.time_ns()\n",
    "\n",
    "execution_time = end - start  # Execution time in nanoseconds\n",
    "print(f\"Execution time: {execution_time} ns\")"
   ]
  }
 ],
 "metadata": {
  "kernelspec": {
   "display_name": "Python 3",
   "language": "python",
   "name": "python3"
  },
  "language_info": {
   "codemirror_mode": {
    "name": "ipython",
    "version": 3
   },
   "file_extension": ".py",
   "mimetype": "text/x-python",
   "name": "python",
   "nbconvert_exporter": "python",
   "pygments_lexer": "ipython3",
   "version": "3.10.11"
  }
 },
 "nbformat": 4,
 "nbformat_minor": 2
}
